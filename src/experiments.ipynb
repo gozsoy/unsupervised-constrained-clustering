{
 "cells": [
  {
   "cell_type": "code",
   "execution_count": 2,
   "metadata": {},
   "outputs": [],
   "source": [
    "import tensorflow as tf"
   ]
  },
  {
   "cell_type": "code",
   "execution_count": 3,
   "metadata": {},
   "outputs": [],
   "source": [
    "class KerasTorchStyleNet(tf.keras.Model):\n",
    "    def __init__(self,layer_width):\n",
    "        super().__init__()\n",
    "        self.linear1 = tf.keras.layers.Dense(units = layer_width, activation='relu')\n",
    "        self.linear2 = tf.keras.layers.Dense(units = 1, activation = None)\n",
    "\n",
    "    def call(self,x):\n",
    "        return self.linear2(self.linear1(x))"
   ]
  },
  {
   "cell_type": "code",
   "execution_count": 4,
   "metadata": {},
   "outputs": [],
   "source": [
    "model = KerasTorchStyleNet(10)"
   ]
  },
  {
   "cell_type": "code",
   "execution_count": 5,
   "metadata": {},
   "outputs": [],
   "source": [
    "x = tf.linspace(-1.75, 1.75, 1000)\n",
    "x = x[:,tf.newaxis]\n",
    "\n",
    "def f(x):\n",
    "    return - tf.math.cos(x) - 2.5 * tf.math.cos(3*x) + 0.5 * tf.math.sin(2*x)\n",
    "\n",
    "y = f(x) + tf.random.normal(x.shape) # ground truth"
   ]
  },
  {
   "cell_type": "code",
   "execution_count": 14,
   "metadata": {},
   "outputs": [],
   "source": [
    "layer_width = 64\n",
    "inputs = tf.keras.layers.Input(shape = (1,))\n",
    "h = tf.keras.layers.Dense(units=layer_width, activation='relu')(inputs)\n",
    "outputs = tf.keras.layers.Dense(units=1,activation=None)(h)\n",
    "\n",
    "model = tf.keras.Model(inputs = inputs, outputs= {'output_1' : outputs})"
   ]
  },
  {
   "cell_type": "code",
   "execution_count": 15,
   "metadata": {},
   "outputs": [
    {
     "data": {
      "text/plain": [
       "{'output_1': <tf.Tensor 'dense_5/Identity:0' shape=(None, 1) dtype=float32>}"
      ]
     },
     "execution_count": 15,
     "metadata": {},
     "output_type": "execute_result"
    }
   ],
   "source": [
    "model.output"
   ]
  }
 ],
 "metadata": {
  "interpreter": {
   "hash": "6428c71344d18f3e37e388ea5717ee401b4180cf156c6d3bf9d292527beb9c57"
  },
  "kernelspec": {
   "display_name": "Python 3.8.8 ('semester_project': venv)",
   "language": "python",
   "name": "python3"
  },
  "language_info": {
   "codemirror_mode": {
    "name": "ipython",
    "version": 3
   },
   "file_extension": ".py",
   "mimetype": "text/x-python",
   "name": "python",
   "nbconvert_exporter": "python",
   "pygments_lexer": "ipython3",
   "version": "3.8.8"
  },
  "orig_nbformat": 4
 },
 "nbformat": 4,
 "nbformat_minor": 2
}
